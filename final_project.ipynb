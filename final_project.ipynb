{
 "cells": [
  {
   "cell_type": "code",
   "execution_count": null,
   "metadata": {},
   "outputs": [],
   "source": [
    "#######################################################################################\n",
    "#######################################################################################\n",
    "###                                                                                 ###\n",
    "### YOU SHOULD COPY THIS SCRIPT INSIDE THE FIRST FOLDER \"CHEST_XRAY\" WHICH          ###\n",
    "### YOU WILL GET BY UNZIPPING THE FILE \"CHEST-XRAY-PNEUMONIA.ZIP\"                   ###\n",
    "### AVAILABLE FROM https://www.kaggle.com/paultimothymooney/chest-xray-pneumonia    ###\n",
    "###                                                                                 ###\n",
    "### IF YOU DO THIS RIGHT, YOU SHOULD HAVE A SECOND \"CHEST_XRAY\" FOLDER              ###\n",
    "### ON THE SAME FOLDER THAN WHERE THIS SCRIPT IS                                    ###\n",
    "###                                                                                 ###\n",
    "### IF YOU DON'T DO THIS, YOU WILL HAVE TO CHANGE MANUALLY THE PATH                 ###\n",
    "### FOR LOADING THE IMAGES.                                                         ###\n",
    "###                                                                                 ###\n",
    "#######################################################################################\n",
    "#######################################################################################"
   ]
  },
  {
   "cell_type": "code",
   "execution_count": null,
   "metadata": {},
   "outputs": [],
   "source": [
    "### INSERT SPARKDL INTO NOTEBOOK ###\n",
    "# We create an environment in our operative system to work in\n",
    "import os\n",
    "SUBMIT_ARGS = \"--packages databricks:spark-deep-learning:1.2.0-spark2.3-s_2.11 pyspark-shell\"\n",
    "os.environ[\"PYSPARK_SUBMIT_ARGS\"] = SUBMIT_ARGS\n",
    "\n",
    "# We initialize findspark\n",
    "import findspark\n",
    "findspark.init()\n",
    "\n",
    "# And we start our spark session\n",
    "from pyspark.sql import SparkSession\n",
    "spark = SparkSession.builder.appName(\"Identifying pneumonia images using pyspark\").getOrCreate()"
   ]
  },
  {
   "cell_type": "code",
   "execution_count": null,
   "metadata": {},
   "outputs": [],
   "source": [
    "### IMPORTING NEEDED PACKAGES TO LOAD IMAGES ###\n",
    "# ImageSchema to fill the dataframes\n",
    "from pyspark.ml.image import ImageSchema\n",
    "\n",
    "# lit to add labels to our images\n",
    "from pyspark.sql.functions import lit"
   ]
  },
  {
   "cell_type": "code",
   "execution_count": null,
   "metadata": {},
   "outputs": [],
   "source": [
    "### LOAD THE TRAIN IMAGES ###\n",
    "# First, we put the training images in 2 dataframes, one normal and one with pneumonia\n",
    "normal_df_train = ImageSchema.readImages(\"chest_xray/train/NORMAL\").withColumn(\"label\", lit(0))\n",
    "pneumonia_df_train = ImageSchema.readImages(\"chest_xray/train/PNEUMONIA\").withColumn(\"label\", lit(1))\n",
    "\n",
    "# Second, we merge both dataframes into a single one\n",
    "train_df = normal_df_train.unionAll(pneumonia_df_train)\n",
    "\n",
    "# And we make a repartition to better manage the PC's memory\n",
    "train_df = train_df.repartition(100)"
   ]
  },
  {
   "cell_type": "code",
   "execution_count": null,
   "metadata": {},
   "outputs": [],
   "source": [
    "### LOAD THE TEST IMAGES ###\n",
    "# Same as the training images case, but with the test images\n",
    "# First, we put the test images in 2 dataframes, one normal and one with pneumonia\n",
    "normal_df_test = ImageSchema.readImages(\"chest_xray/test/NORMAL\").withColumn(\"label\", lit(0))\n",
    "pneumonia_df_test = ImageSchema.readImages(\"chest_xray/test/PNEUMONIA\").withColumn(\"label\", lit(1))\n",
    "\n",
    "# Second, we merge both dataframes into a single one\n",
    "test_df = normal_df_test.unionAll(pneumonia_df_test)\n",
    "\n",
    "# And we make a repartition to better manage the PC's memory\n",
    "test_df = test_df.repartition(100)"
   ]
  },
  {
   "cell_type": "code",
   "execution_count": null,
   "metadata": {},
   "outputs": [],
   "source": [
    "### TRAINING OUR MODEL ###\n",
    "# We need to import all the packages that we will use on the training\n",
    "from pyspark.ml.classification import LogisticRegression\n",
    "from pyspark.ml import Pipeline\n",
    "from sparkdl import DeepImageFeaturizer\n",
    "\n",
    "# First, we will extract the features from our images using the \"InceptionV3\" model\n",
    "featurizer = DeepImageFeaturizer(inputCol=\"image\", outputCol=\"features\", modelName=\"InceptionV3\")\n",
    "\n",
    "# Now we use a logistic regression algorithm to analyze the features, since It's a pretty simple and fasta algorithm\n",
    "lr = LogisticRegression(maxIter=10, regParam=0.05, elasticNetParam=0.3, labelCol=\"label\")\n",
    "\n",
    "# And we define a pipeline model which implements the featurizer model and the analyzer model \n",
    "p = Pipeline(stages=[featurizer, lr])\n",
    "\n",
    "# And lastly we can start our training by using the pipeline that includes both models\n",
    "p_model = p.fit(train_df)"
   ]
  },
  {
   "cell_type": "code",
   "execution_count": null,
   "metadata": {},
   "outputs": [],
   "source": [
    "### EVALUATING OUR MODEL ###\n",
    "# We will import the evaluator\n",
    "from pyspark.ml.evaluation import MulticlassClassificationEvaluator\n",
    "\n",
    "# We define the metric that we want to take into account to evaluate our model, which will be \"accuracy\" in this example\n",
    "evaluator = MulticlassClassificationEvaluator()\n",
    "\n",
    "# And we input our test dataframe, to check how good our model is\n",
    "tested_df = p_model.transform(test_df)\n",
    "\n",
    "# We want to see some metrics, in order to evaluate it by ourselves\n",
    "print('Test set accuracy: ', evaluator.evaluate(tested_df,{evaluator.metricName: 'accuracy'}))\n",
    "print('Test set precision: ', evaluator.evaluate(tested_df,{evaluator.metricName: 'weightedPrecision'}))\n",
    "print('Test set recall: ', evaluator.evaluate(tested_df,{evaluator.metricName: 'weightedRecall'}))\n",
    "print('Test set F1-score: ', evaluator.evaluate(tested_df,{evaluator.metricName: 'f1'}))"
   ]
  }
 ],
 "metadata": {
  "kernelspec": {
   "display_name": "Python 2",
   "language": "python",
   "name": "python2"
  },
  "language_info": {
   "codemirror_mode": {
    "name": "ipython",
    "version": 3
   },
   "file_extension": ".py",
   "mimetype": "text/x-python",
   "name": "python",
   "nbconvert_exporter": "python",
   "pygments_lexer": "ipython3",
   "version": "3.7.3"
  }
 },
 "nbformat": 4,
 "nbformat_minor": 2
}
